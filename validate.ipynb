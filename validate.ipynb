{
 "cells": [
  {
   "cell_type": "code",
   "execution_count": null,
   "metadata": {},
   "outputs": [],
   "source": [
    "from frictionless import validate"
   ]
  },
  {
   "cell_type": "code",
   "execution_count": null,
   "metadata": {},
   "outputs": [],
   "source": [
    "data_filename = 'data.csv'\n",
    "yaml_filename = f'{data_filename}.schema.yaml'\n",
    "report_filename = f'{data_filename}_validate_report.txt'"
   ]
  },
  {
   "cell_type": "code",
   "execution_count": null,
   "metadata": {},
   "outputs": [],
   "source": [
    "def messege(str):\n",
    "    print(str)\n",
    "    with open(report_filename, 'a') as file:\n",
    "        file.write(str)"
   ]
  },
  {
   "cell_type": "code",
   "execution_count": null,
   "metadata": {},
   "outputs": [],
   "source": [
    "with open(report_filename, 'w') as file:\n",
    "    pass\n",
    "\n",
    "yaml_report = validate(yaml_filename)\n",
    "\n",
    "if yaml_report.valid:\n",
    "    data_report = validate(data_filename, schema=yaml_filename)\n",
    "    error_num = data_report.stats['errors']\n",
    "    if error_num == 0:\n",
    "        messege('There are no errors in the dataset.')\n",
    "    elif error_num == 1:\n",
    "        messege('There is 1 error in the dataset:')\n",
    "    else:\n",
    "        messege(f'There are {error_num} errors in the dataset:')\n",
    "    for i in range(error_num):\n",
    "        messege(f'{data_report.tasks[0].errors[i].title}:\\n{data_report.tasks[0].errors[i].message}')\n",
    "else:\n",
    "    messege('The .yaml file is not valid:')\n",
    "    error_num = yaml_report.stats['errors']\n",
    "    for i in range(error_num):\n",
    "        messege(f'{yaml_report.tasks[0].errors[i].title}:\\n{yaml_report.tasks[0].errors[i].message}')"
   ]
  }
 ],
 "metadata": {
  "kernelspec": {
   "display_name": "Python 3",
   "language": "python",
   "name": "python3"
  },
  "language_info": {
   "name": "python",
   "version": "3.10.12"
  }
 },
 "nbformat": 4,
 "nbformat_minor": 2
}
